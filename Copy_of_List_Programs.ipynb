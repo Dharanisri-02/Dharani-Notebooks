{
  "cells": [
    {
      "cell_type": "markdown",
      "metadata": {
        "id": "view-in-github",
        "colab_type": "text"
      },
      "source": [
        "<a href=\"https://colab.research.google.com/github/Dharanisri-02/Dharani-Notebooks/blob/main/Copy_of_List_Programs.ipynb\" target=\"_parent\"><img src=\"https://colab.research.google.com/assets/colab-badge.svg\" alt=\"Open In Colab\"/></a>"
      ]
    },
    {
      "cell_type": "markdown",
      "id": "f29e5d65-955f-482a-9c6d-737d0f7537f7",
      "metadata": {
        "id": "f29e5d65-955f-482a-9c6d-737d0f7537f7"
      },
      "source": [
        "#### Write a Python program to create a list of numbers from 1-50 that are either divisible by 3 or divisible by 6"
      ]
    },
    {
      "cell_type": "code",
      "execution_count": null,
      "id": "42986d68-e826-434d-8870-2c58405bf202",
      "metadata": {
        "id": "42986d68-e826-434d-8870-2c58405bf202",
        "outputId": "442109de-ef43-45c0-a8e9-b76e6401fdc6",
        "colab": {
          "base_uri": "https://localhost:8080/"
        }
      },
      "outputs": [
        {
          "output_type": "stream",
          "name": "stdout",
          "text": [
            "Numbers divisible by 3 or 6 from 1 to 50:\n",
            "[3, 6, 9, 12, 15, 18, 21, 24, 27, 30, 33, 36, 39, 42, 45, 48]\n"
          ]
        }
      ],
      "source": [
        "li=[i for i in range(1,51) if i%3==0 or i%6==0]\n",
        "print(\"Numbers divisible by 3 or 6 from 1 to 50:\")\n",
        "print(li)"
      ]
    },
    {
      "cell_type": "markdown",
      "id": "a33a3263",
      "metadata": {
        "id": "a33a3263"
      },
      "source": [
        "#### Write a Python program that reads “n” number of integers from the user and generates a separate list containing even and odd numbers. (Use List Comprehension)"
      ]
    },
    {
      "cell_type": "code",
      "execution_count": null,
      "id": "b6bcaec3",
      "metadata": {
        "id": "b6bcaec3",
        "outputId": "3a32a4fb-6695-47ed-dfc2-1b5756473bf7",
        "colab": {
          "base_uri": "https://localhost:8080/"
        }
      },
      "outputs": [
        {
          "output_type": "stream",
          "name": "stdout",
          "text": [
            "Enter number of elements in the list:5\n",
            "4\n",
            "9\n",
            "30\n",
            "95\n",
            "67\n",
            "The given list is  [4, 9, 30, 95, 67]\n",
            "Odd numbers  [9, 95, 67]\n",
            "Even numbers  [4, 30]\n"
          ]
        }
      ],
      "source": [
        "n=int(input(\"Enter number of elements in the list:\"))\n",
        "lst=[int(input()) for _ in range(n)]\n",
        "oddlst=[i for i in lst if i%2!=0]\n",
        "evenlst=[i for i in lst if i%2==0]\n",
        "print(\"The given list is \",lst)\n",
        "print(\"Odd numbers \",oddlst)\n",
        "print(\"Even numbers \",evenlst)"
      ]
    },
    {
      "cell_type": "markdown",
      "id": "7d43a502",
      "metadata": {
        "id": "7d43a502"
      },
      "source": [
        "#### The python program should read the list of 5 numbers, and generate the new list which contains the factorial of each number in the given list.\n",
        "\n",
        "Sample Input\n",
        "\n",
        "[2, 4, 8, 7, 5]\n",
        "\n",
        "Sample Output\n",
        "\n",
        "[2, 24, 40320, 5040, 120]\n"
      ]
    },
    {
      "cell_type": "code",
      "source": [
        "import math\n",
        "n=int(input(\"Enter number of elements in the list:\"))\n",
        "li=[int(input()) for _ in range(n)]\n",
        "fact=[math.factorial(i) for i in li]\n",
        "print(\"The given list is \",li)\n",
        "print(\"Factorial of the list is \",fact)"
      ],
      "metadata": {
        "id": "o2nW3qOxc-7F",
        "outputId": "18042e86-680b-4817-fcf1-3bebbb49c834",
        "colab": {
          "base_uri": "https://localhost:8080/"
        }
      },
      "id": "o2nW3qOxc-7F",
      "execution_count": null,
      "outputs": [
        {
          "output_type": "stream",
          "name": "stdout",
          "text": [
            "Enter number of elements in the list:5\n",
            "5\n",
            "6\n",
            "7\n",
            "90\n",
            "87\n",
            "The given list is  [5, 6, 7, 90, 87]\n",
            "Factorial of the list is  [120, 720, 5040, 1485715964481761497309522733620825737885569961284688766942216863704985393094065876545992131370884059645617234469978112000000000000000000000, 2107757298379527717213600518699389595229783738061356212322972511214654115727593174080683423236414793504734471782400000000000000000000]\n"
          ]
        }
      ]
    },
    {
      "cell_type": "markdown",
      "id": "75a00f56",
      "metadata": {
        "id": "75a00f56"
      },
      "source": [
        "#### Write a python program that reads integers from the user and stores them in a list. Your program should continue reading values until the user enters 0. Then it should display all of the values entered by the user (except for the 0) in ascending order (The list itself to be sorted)."
      ]
    },
    {
      "cell_type": "code",
      "execution_count": null,
      "id": "720ebc62",
      "metadata": {
        "id": "720ebc62",
        "outputId": "5e21b2ab-ba34-4ac1-a7e3-b5ff71051e17",
        "colab": {
          "base_uri": "https://localhost:8080/"
        }
      },
      "outputs": [
        {
          "output_type": "stream",
          "name": "stdout",
          "text": [
            "Enter the values of the list :\n",
            "45\n",
            "6\n",
            "9\n",
            "35\n",
            "47\n",
            "10\n",
            "0\n",
            "The sorted list is  [6, 9, 10, 35, 45, 47]\n"
          ]
        }
      ],
      "source": [
        "print(\"Enter the values of the list :\")\n",
        "li=[]\n",
        "while True:\n",
        "  i=int(input())\n",
        "  if i==0:\n",
        "    break\n",
        "  li.append(i)\n",
        "li.sort()\n",
        "print(\"The sorted list is \",li)"
      ]
    },
    {
      "cell_type": "markdown",
      "id": "2234d270",
      "metadata": {
        "id": "2234d270"
      },
      "source": [
        "#### Write a python program that reads the string, encode each character in a string using ascii values and store the ascii value in the list. The program reads the strings from the user, and stores the individual characters ascii value to the list\n",
        "\n",
        "Sample Input\n",
        "\n",
        "Enter the string : Science\n",
        "\n",
        "Sample Output\n",
        "\n",
        "Encode the List - [83, 99, 105, 101, 110, 99, 101]\n",
        "\n",
        "Note: Use ord() function\n"
      ]
    },
    {
      "cell_type": "code",
      "execution_count": null,
      "id": "6d329995",
      "metadata": {
        "id": "6d329995",
        "outputId": "4e80a29d-03eb-40d6-8237-7ce9482110fd",
        "colab": {
          "base_uri": "https://localhost:8080/"
        }
      },
      "outputs": [
        {
          "output_type": "stream",
          "name": "stdout",
          "text": [
            "Enter the string :dharani\n",
            "Encode the List - [100, 104, 97, 114, 97, 110, 105]\n"
          ]
        }
      ],
      "source": [
        "s=input(\"Enter the string :\")\n",
        "li=[]\n",
        "for i in s:\n",
        "  li.append(ord(i))\n",
        "print(\"Encode the List -\",li)\n"
      ]
    },
    {
      "cell_type": "markdown",
      "id": "81d65617",
      "metadata": {
        "id": "81d65617"
      },
      "source": [
        "#### Write a python program which reads “n” words from the user, store it in the list and display the length of each word and display the longest word in the list."
      ]
    },
    {
      "cell_type": "code",
      "execution_count": null,
      "id": "6370d7a6",
      "metadata": {
        "id": "6370d7a6",
        "outputId": "7a7a3195-0e81-458d-e125-5f0846877de2",
        "colab": {
          "base_uri": "https://localhost:8080/"
        }
      },
      "outputs": [
        {
          "output_type": "stream",
          "name": "stdout",
          "text": [
            "Enter the number of words:3\n",
            "Enter the word:dharani\n",
            "Enter the word:savi\n",
            "Enter the word:school\n",
            "Length of Each word in the list : [7, 4, 6]\n",
            "The longest Words in the list is : dharani\n"
          ]
        }
      ],
      "source": [
        "n=int(input(\"Enter the number of words:\"))\n",
        "wordli=[]\n",
        "lenli=[]\n",
        "for _ in range(n):\n",
        "  s=input(\"Enter the word:\")\n",
        "  wordli.append(s)\n",
        "  lenli.append(len(s))\n",
        "imax=lenli.index(max(lenli))\n",
        "print(\"Length of Each word in the list :\",lenli)\n",
        "print(\"The longest Words in the list is :\",wordli[imax])"
      ]
    },
    {
      "cell_type": "markdown",
      "id": "43116534",
      "metadata": {
        "id": "43116534"
      },
      "source": [
        "#### A program should read “n” positive integers from the user and append it to the list, and if the list contains prime numbers return “True” and number of prime numbers, else “False”. (Use function to find the number is prime or not)"
      ]
    },
    {
      "cell_type": "code",
      "execution_count": null,
      "id": "c23107fb",
      "metadata": {
        "id": "c23107fb",
        "outputId": "d0b1cc6d-0997-4905-ec80-4618828681bf",
        "colab": {
          "base_uri": "https://localhost:8080/"
        }
      },
      "outputs": [
        {
          "output_type": "stream",
          "name": "stdout",
          "text": [
            "Enter number of integers in the list:4\n",
            "Enter the integers\n",
            "5 \n",
            "9\n",
            "6\n",
            "12\n",
            "TRUE\n",
            "Number of prime numbers in the given list is  1\n"
          ]
        }
      ],
      "source": [
        "def isprime(n):\n",
        "    for i in range(2,n//2):\n",
        "        if n%i==0:\n",
        "            return False\n",
        "    return True\n",
        "n=int(input(\"Enter number of integers in the list:\"))\n",
        "lst=[]\n",
        "print(\"Enter the integers\")\n",
        "for _ in range(n):\n",
        "    num=int(input())\n",
        "    lst.append(num)\n",
        "c=0\n",
        "for i in lst:\n",
        "    if isprime(i):\n",
        "        c+=1\n",
        "if c>0:\n",
        "    print(\"TRUE\")\n",
        "else:\n",
        "    print(\"FALSE\")\n",
        "print(\"Number of prime numbers in the given list is \",c)"
      ]
    },
    {
      "cell_type": "markdown",
      "id": "b05da938",
      "metadata": {
        "id": "b05da938"
      },
      "source": [
        "#### Write a python program that removes duplicates from the given list and generate the new list without duplicates."
      ]
    },
    {
      "cell_type": "code",
      "execution_count": null,
      "id": "bf9a0d21",
      "metadata": {
        "id": "bf9a0d21",
        "outputId": "1cfd45e9-795b-4e35-cb71-32b4773fa7a2",
        "colab": {
          "base_uri": "https://localhost:8080/"
        }
      },
      "outputs": [
        {
          "output_type": "stream",
          "name": "stdout",
          "text": [
            "Enter number of elements in the list:6\n",
            "78\n",
            "98\n",
            "78\n",
            "90\n",
            "34\n",
            "90\n",
            "List before removal of duplicates [78, 98, 78, 90, 34, 90]\n",
            "List after removal of duplicates [78, 98, 90, 34]\n"
          ]
        }
      ],
      "source": [
        "num=int(input(\"Enter number of elements in the list:\"))\n",
        "li=[int(input()) for _ in range(num)]\n",
        "print(\"List before removal of duplicates\",li)\n",
        "unilst=[]\n",
        "for i in li:\n",
        "    if i not in unilst:\n",
        "        unilst.append(i)\n",
        "print(\"List after removal of duplicates\",unilst)"
      ]
    },
    {
      "cell_type": "markdown",
      "id": "c1cfbeab",
      "metadata": {
        "id": "c1cfbeab"
      },
      "source": [
        "#### Write a python program to remove even numbers from the given list"
      ]
    },
    {
      "cell_type": "code",
      "execution_count": null,
      "id": "48028949",
      "metadata": {
        "id": "48028949",
        "outputId": "64b9d654-04aa-49b6-fa2b-58284579fff6",
        "colab": {
          "base_uri": "https://localhost:8080/"
        }
      },
      "outputs": [
        {
          "output_type": "stream",
          "name": "stdout",
          "text": [
            "Enter number of elements in the list:5\n",
            "4\n",
            "9\n",
            "6\n",
            "7\n",
            "2\n",
            "List before removal of even numbers [4, 9, 6, 7, 2]\n",
            "List after removal of even numbers [9, 7]\n"
          ]
        }
      ],
      "source": [
        "n=int(input(\"Enter number of elements in the list:\"))\n",
        "li=[int(input()) for _ in range(n)]\n",
        "print(\"List before removal of even numbers\",li)\n",
        "for i in li:\n",
        "    if i%2==0:\n",
        "        li.remove(i)\n",
        "print(\"List after removal of even numbers\",li)"
      ]
    },
    {
      "cell_type": "markdown",
      "id": "6c818a08",
      "metadata": {
        "id": "6c818a08"
      },
      "source": [
        "#### Consider the following list which contains the month with year  \n",
        "\n",
        "years = [\"January 2023\", “February 2024”, March 2023”, \"May 2025\", \"April 2023\", \"August 2024\", \"September 2025\", \"December 2023\"]\n",
        "\n",
        "If you have noticed, for some months, the year was wrongly mentioned instead of 2023. Write a Python program to change the month to 2023.\n"
      ]
    },
    {
      "cell_type": "code",
      "execution_count": null,
      "id": "45b5b447",
      "metadata": {
        "id": "45b5b447",
        "outputId": "ac7714a2-4231-45fd-8cdc-6fa216f889b8",
        "colab": {
          "base_uri": "https://localhost:8080/"
        }
      },
      "outputs": [
        {
          "output_type": "stream",
          "name": "stdout",
          "text": [
            "The list after correcting : ['January 2023', 'February 2023', 'March 2023', 'May 2023', 'April 2023', 'August 2023', 'September 2023', 'December 2023']\n"
          ]
        }
      ],
      "source": [
        "years = [\"January 2023\", \"February 2024\", \"March 2023\", \"May 2025\", \"April 2023\", \"August 2024\", \"September 2025\", \"December 2023\"]\n",
        "c=0\n",
        "for i in years:\n",
        "  if i[len(i)-4:]!='2023':\n",
        "    ri=i[:len(i)-4]\n",
        "    i=ri+'2023'\n",
        "    years[c]=i\n",
        "  c+=1\n",
        "print(\"The list after correcting :\",years)"
      ]
    }
  ],
  "metadata": {
    "kernelspec": {
      "display_name": "Python 3 (ipykernel)",
      "language": "python",
      "name": "python3"
    },
    "language_info": {
      "codemirror_mode": {
        "name": "ipython",
        "version": 3
      },
      "file_extension": ".py",
      "mimetype": "text/x-python",
      "name": "python",
      "nbconvert_exporter": "python",
      "pygments_lexer": "ipython3",
      "version": "3.12.5"
    },
    "colab": {
      "provenance": [],
      "include_colab_link": true
    }
  },
  "nbformat": 4,
  "nbformat_minor": 5
}